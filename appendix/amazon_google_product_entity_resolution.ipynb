{
 "cells": [
  {
   "cell_type": "markdown",
   "metadata": {},
   "source": [
    "# 類似性アルゴリズムを用いたエンティティマッチングの補足\n"
   ]
  },
  {
   "cell_type": "markdown",
   "metadata": {},
   "source": [
    "書籍のリスト 9-21 では、少数のサンプルのみを比較してトークンベースのアプローチの方が頑健であるという評価をしています。\n",
    "\n",
    "この notebook では、マッチングの正解データを使って、トークンベースと文字列ベースのアプローチの定量的な比較を行います。\n"
   ]
  },
  {
   "cell_type": "markdown",
   "metadata": {},
   "source": [
    "## 前提\n",
    "\n",
    "- リスト 9-19 を実行済みである。\n"
   ]
  },
  {
   "cell_type": "markdown",
   "metadata": {},
   "source": [
    "## 前準備\n"
   ]
  },
  {
   "cell_type": "markdown",
   "metadata": {},
   "source": [
    "アノテーションデータをダウンロードする。\n"
   ]
  },
  {
   "cell_type": "code",
   "execution_count": null,
   "metadata": {},
   "outputs": [],
   "source": [
    "!mkdir ./data\n",
    "\n",
    "# https://data.dws.informatik.uni-mannheim.de/benchmarkmatchingtasks/index.html\n",
    "!wget https://data.dws.informatik.uni-mannheim.de/benchmarkmatchingtasks/data/amazon-google/gs_train.csv -O ./data/train.csv\n",
    "!wget https://data.dws.informatik.uni-mannheim.de/benchmarkmatchingtasks/data/amazon-google/gs_val.csv -O ./data/val.csv\n",
    "!wget https://data.dws.informatik.uni-mannheim.de/benchmarkmatchingtasks/data/amazon-google/gs_test.csv -O ./data/test.csv"
   ]
  },
  {
   "cell_type": "code",
   "execution_count": 2,
   "metadata": {},
   "outputs": [],
   "source": [
    "import os\n",
    "from neo4j import GraphDatabase\n",
    "from tqdm import tqdm\n",
    "\n",
    "\n",
    "neo4j_client = GraphDatabase.driver(\n",
    "    os.environ.get(\"NEO4J_URI\", \"bolt://localhost:7687\"),\n",
    "    auth=(\n",
    "        os.environ.get(\"NEO4J_USER\", \"neo4j\"),\n",
    "        os.environ.get(\"NEO4J_PASSWORD\", \"yolo\"),\n",
    "    ),\n",
    ")\n",
    "neo4j_client.verify_connectivity()"
   ]
  },
  {
   "cell_type": "markdown",
   "metadata": {},
   "source": [
    "## データの加工と不整合確認\n"
   ]
  },
  {
   "cell_type": "code",
   "execution_count": null,
   "metadata": {},
   "outputs": [],
   "source": [
    "import polars as pl\n",
    "\n",
    "train_df = pl.read_csv(\"./data/train.csv\")\n",
    "eval_df = pl.read_csv(\"./data/val.csv\")\n",
    "eval_df = eval_df.vstack(pl.read_csv(\"./data/test.csv\"))"
   ]
  },
  {
   "cell_type": "markdown",
   "metadata": {},
   "source": [
    "アノテーションデータ内に含まれているすべての商品が Neo4j 内に存在するか確認する。\n"
   ]
  },
  {
   "cell_type": "code",
   "execution_count": null,
   "metadata": {},
   "outputs": [
    {
     "name": "stderr",
     "output_type": "stream",
     "text": [
      "8440it [00:41, 203.00it/s]\n"
     ]
    }
   ],
   "source": [
    "source_ids = train_df[\"source_id\"].to_list() + eval_df[\"source_id\"].to_list()\n",
    "target_ids = train_df[\"target_id\"].to_list() + eval_df[\"target_id\"].to_list()\n",
    "missing_ids = []\n",
    "for source_id, target_id in tqdm(zip(source_ids, target_ids)):\n",
    "    stmt = \"\"\"\n",
    "    MATCH (p:Product {id: $id})\n",
    "    RETURN p.id as id\n",
    "    \"\"\"\n",
    "    with neo4j_client.session() as session:\n",
    "        result = session.run(stmt, id=source_id)\n",
    "        records = [r for r in result.data()]\n",
    "        if len(records) == 0:\n",
    "            print(f\"Source ID {source_id} not found\")\n",
    "            missing_ids.append(source_id)\n",
    "\n",
    "        result = session.run(stmt, id=target_id)\n",
    "        records = [r for r in result.data()]\n",
    "        if len(records) == 0:\n",
    "            print(f\"Target ID {target_id} not found\")\n",
    "            missing_ids.append(target_id)\n",
    "assert len(missing_ids) == 0"
   ]
  },
  {
   "cell_type": "markdown",
   "metadata": {},
   "source": [
    "## 類似度の算出\n"
   ]
  },
  {
   "cell_type": "markdown",
   "metadata": {},
   "source": [
    "### トークンベース\n"
   ]
  },
  {
   "cell_type": "code",
   "execution_count": 8,
   "metadata": {},
   "outputs": [
    {
     "name": "stderr",
     "output_type": "stream",
     "text": [
      "45890it [00:01, 27171.70it/s]\n"
     ]
    }
   ],
   "source": [
    "stmt = \"\"\"\\\n",
    "CALL gds.nodeSimilarity.stream('identity-sim', {similarityCutoff: 0.0}) YIELD node1, node2, similarity\n",
    "RETURN gds.util.asNode(node1).id as source_id, gds.util.asNode(node2).id as target_id, similarity\"\"\"\n",
    "\n",
    "token_based_result = {}\n",
    "with neo4j_client.session() as session:\n",
    "    result = session.run(stmt)\n",
    "    for record in tqdm(result):\n",
    "        key = \"-\".join(sorted([record[\"source_id\"], record[\"target_id\"]]))\n",
    "        token_based_result[key] = record[\"similarity\"]"
   ]
  },
  {
   "cell_type": "markdown",
   "metadata": {},
   "source": [
    "### 文字列ベース（Jaro-Winkler 距離）\n"
   ]
  },
  {
   "cell_type": "code",
   "execution_count": 45,
   "metadata": {},
   "outputs": [
    {
     "name": "stderr",
     "output_type": "stream",
     "text": [
      "10527166it [03:33, 49399.20it/s]\n"
     ]
    }
   ],
   "source": [
    "stmt = \"\"\"\\\n",
    "MATCH (sp:Product), (tp:Product)\n",
    "WHERE sp.id < tp.id\n",
    "RETURN sp.id as source_id, \n",
    "  tp.id as target_id, \n",
    "  1 - apoc.text.jaroWinklerDistance(\n",
    "    CASE\n",
    "      WHEN sp.source = 'GGL' THEN sp.name\n",
    "      WHEN sp.source = 'AMZ' THEN sp.title\n",
    "      ELSE null\n",
    "    END, \n",
    "    CASE\n",
    "      WHEN tp.source = 'GGL' THEN tp.name\n",
    "      WHEN tp.source = 'AMZ' THEN tp.title\n",
    "      ELSE null\n",
    "    END\n",
    "  ) AS similarity\n",
    "\"\"\"\n",
    "\n",
    "jaro_winkler_based_result = {}\n",
    "with neo4j_client.session() as session:\n",
    "    result = session.run(stmt)\n",
    "    for record in tqdm(result):\n",
    "        key = \"-\".join(sorted([record[\"source_id\"], record[\"target_id\"]]))\n",
    "        jaro_winkler_based_result[key] = record[\"similarity\"]"
   ]
  },
  {
   "cell_type": "code",
   "execution_count": null,
   "metadata": {},
   "outputs": [],
   "source": [
    "def assign_similarity(df, token_based_result: dict, jaro_winkler_based_result: dict):\n",
    "    df = df.with_columns(\n",
    "        pl.struct([\"source_id\", \"target_id\"])\n",
    "        .map_elements(\n",
    "            lambda x: \"-\".join(sorted([x[\"source_id\"], x[\"target_id\"]])),\n",
    "            return_dtype=pl.String,\n",
    "        )\n",
    "        .alias(\"key\")\n",
    "    )\n",
    "    df = df.with_columns(\n",
    "        pl.struct([\"key\"])\n",
    "        .map_elements(\n",
    "            lambda x: token_based_result.get(x[\"key\"], 0.0),\n",
    "            return_dtype=pl.Float32,\n",
    "        )\n",
    "        .alias(\"token_based_similarity\"),\n",
    "    )\n",
    "    df = df.with_columns(\n",
    "        pl.struct([\"key\"])\n",
    "        .map_elements(\n",
    "            lambda x: jaro_winkler_based_result.get(x[\"key\"], 0.0),\n",
    "            return_dtype=pl.Float32,\n",
    "        )\n",
    "        .alias(\"jaro_winkler_based_similarity\"),\n",
    "    )\n",
    "\n",
    "    return df\n",
    "\n",
    "\n",
    "train_df = assign_similarity(train_df, token_based_result, jaro_winkler_based_result)\n",
    "eval_df = assign_similarity(eval_df, token_based_result, jaro_winkler_based_result)"
   ]
  },
  {
   "cell_type": "markdown",
   "metadata": {},
   "source": [
    "訓練データセットを使って、同一エンティティとして判断する類似度の閾値を決定する。\n"
   ]
  },
  {
   "cell_type": "code",
   "execution_count": 60,
   "metadata": {},
   "outputs": [],
   "source": [
    "import numpy as np\n",
    "from sklearn.metrics import f1_score, precision_score, recall_score\n",
    "\n",
    "ths = np.linspace(1e-5, 1.0 - 1e-5, 100)\n",
    "best_th_token_based_approach = 0.0\n",
    "best_th_jaro_winkler_based_approach = 0.0\n",
    "best_f1_token_based_approach = 0.0\n",
    "best_f1_jaro_winkler_based_approach = 0.0\n",
    "f1s_token_based_approach = []\n",
    "f1s_jaro_winkler_based_approach = []\n",
    "for th in ths:\n",
    "    y_true = train_df[\"matching\"].to_numpy()\n",
    "    y_pred = (train_df[\"token_based_similarity\"] > th).to_numpy()\n",
    "    f1 = f1_score(y_true, y_pred)\n",
    "    if f1 > best_f1_token_based_approach:\n",
    "        best_th_token_based_approach = th\n",
    "        best_f1_token_based_approach = f1\n",
    "    f1s_token_based_approach.append(f1)\n",
    "\n",
    "    y_pred = (train_df[\"jaro_winkler_based_similarity\"] > th).to_numpy()\n",
    "    f1 = f1_score(y_true, y_pred)\n",
    "    if f1 > best_f1_jaro_winkler_based_approach:\n",
    "        best_th_jaro_winkler_based_approach = th\n",
    "        best_f1_jaro_winkler_based_approach = f1\n",
    "    f1s_jaro_winkler_based_approach.append(f1)"
   ]
  },
  {
   "cell_type": "markdown",
   "metadata": {},
   "source": [
    "閾値の変化によって F1 スコアがどのように変化するか確認する。\n"
   ]
  },
  {
   "cell_type": "code",
   "execution_count": null,
   "metadata": {},
   "outputs": [
    {
     "data": {
      "image/png": "[encoded data removed]"
     },
     "metadata": {},
     "output_type": "display_data"
    }
   ],
   "source": [
    "import plotly.graph_objects as go\n",
    "\n",
    "fig = go.Figure()\n",
    "fig.add_trace(\n",
    "    go.Scatter(x=ths, y=f1s_token_based_approach, mode=\"lines\", name=\"Token-based\")\n",
    ")\n",
    "fig.add_trace(\n",
    "    go.Scatter(\n",
    "        x=ths,\n",
    "        y=f1s_jaro_winkler_based_approach,\n",
    "        mode=\"lines\",\n",
    "        name=\"Jaro-Winkler-based\",\n",
    "    )\n",
    ")\n",
    "fig.update_layout(\n",
    "    xaxis_title=\"Similarity Threshold\",\n",
    "    yaxis_title=\"F1 Score\",\n",
    "    legend_title=\"Approach\",\n",
    "    yaxis=dict(range=[0, 1]),\n",
    ")\n",
    "fig.show(\"png\")"
   ]
  },
  {
   "cell_type": "markdown",
   "metadata": {},
   "source": [
    "評価データセットで使用する閾値を確認する。\n"
   ]
  },
  {
   "cell_type": "code",
   "execution_count": 64,
   "metadata": {},
   "outputs": [
    {
     "data": {
      "text/plain": [
       "(0.4646471717171718, 0.6969657575757576)"
      ]
     },
     "execution_count": 25,
     "metadata": {},
     "output_type": "execute_result"
    }
   ],
   "source": [
    "best_th_token_based_approach, best_th_jaro_winkler_based_approach"
   ]
  },
  {
   "cell_type": "markdown",
   "metadata": {},
   "source": [
    "評価用のデータセットを使って各手法の性能を比較する。\n"
   ]
  },
  {
   "cell_type": "code",
   "execution_count": 63,
   "metadata": {},
   "outputs": [
    {
     "name": "stdout",
     "output_type": "stream",
     "text": [
      "Token-based Approach\n",
      "    F1 Score: 0.5375494071146245\n",
      "    Precision: 0.5513513513513514\n",
      "    Recall: 0.5244215938303342\n",
      "Jaro-Winkler-based Approach\n",
      "    F1 Score: 0.3612099644128114\n",
      "    Precision: 0.2761904761904762\n",
      "    Recall: 0.5218508997429306\n"
     ]
    }
   ],
   "source": [
    "y_true = eval_df[\"matching\"].to_numpy()\n",
    "y_pred = (eval_df[\"token_based_similarity\"] > best_th_token_based_approach).to_numpy()\n",
    "print(f\"Token-based Approach\")\n",
    "print(f\"    F1 Score: {f1_score(y_true, y_pred)}\")\n",
    "print(f\"    Precision: {precision_score(y_true, y_pred)}\")\n",
    "print(f\"    Recall: {recall_score(y_true, y_pred)}\")\n",
    "\n",
    "y_pred = (\n",
    "    eval_df[\"jaro_winkler_based_similarity\"] > best_th_jaro_winkler_based_approach\n",
    ").to_numpy()\n",
    "print(f\"Jaro-Winkler-based Approach\")\n",
    "print(f\"    F1 Score: {f1_score(y_true, y_pred)}\")\n",
    "print(f\"    Precision: {precision_score(y_true, y_pred)}\")\n",
    "print(f\"    Recall: {recall_score(y_true, y_pred)}\")"
   ]
  },
  {
   "cell_type": "markdown",
   "metadata": {},
   "source": [
    "今回扱ったデータに関しては、トークン単位で類似度を評価した方が高い精度でエンティティのマッチングが行えることがわかった。\n"
   ]
  }
 ],
 "metadata": {
  "kernelspec": {
   "display_name": ".venv",
   "language": "python",
   "name": "python3"
  },
  "language_info": {
   "codemirror_mode": {
    "name": "ipython",
    "version": 3
   },
   "file_extension": ".py",
   "mimetype": "text/x-python",
   "name": "python",
   "nbconvert_exporter": "python",
   "pygments_lexer": "ipython3",
   "version": "3.12.7"
  }
 },
 "nbformat": 4,
 "nbformat_minor": 2
}
